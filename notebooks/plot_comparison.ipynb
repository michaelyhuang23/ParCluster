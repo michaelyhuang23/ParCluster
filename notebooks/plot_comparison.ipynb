{
 "cells": [
  {
   "cell_type": "code",
   "execution_count": 34,
   "id": "3b2e71eb",
   "metadata": {},
   "outputs": [],
   "source": [
    "import pandas as pd\n",
    "import seaborn as sns\n",
    "import matplotlib.pyplot as plt\n",
    "import numpy as np\n",
    "import os"
   ]
  },
  {
   "cell_type": "code",
   "execution_count": 35,
   "id": "a2d191e0",
   "metadata": {},
   "outputs": [],
   "source": [
    "palette = sns.color_palette(['#5494da', '#5dcdf9', '#e8e37c', '#f3b595', '#f09895'])"
   ]
  },
  {
   "cell_type": "code",
   "execution_count": 36,
   "id": "7cf38d99",
   "metadata": {},
   "outputs": [
    {
     "name": "stdout",
     "output_type": "stream",
     "text": [
      "['test_sensor.sh~', 'test_HT.sh', 'test_PAMAP2.sh~', 'test_sensor.sh', 'test_fenwick_synthetic.sh', 'test_GeoLife.sh', 'test_varden_fast.sh', 'test_sensor5.sh', 'CMakeLists.txt', 'test_query.sh', 'test_sensor5.sh~', 'test_uniform_fast.sh', 'test_all_synthetic.sh', 'images', 'dataset', 'include', 'tests', 'brutetest.sh', 'test_priority_synthetic.sh', '.gitmodules', 'test_uniform.sh', 'data.csv', 'README.md', 'results', 'test_gowalla.sh', 'test_static_synthetic.sh', '.gitignore', 'test_fenwick_synthetic.sh~', 'data_compare.csv', 'test_all.sh', 'test_PAMAP2.sh', 'test_static_synthetic.sh~', 'test_GeoLife.sh~', 'plot_graphs.py', 'external', '.git', 'test_varden.sh', 'notebooks', 'test_simden_fast.sh', '.idea', 'src']\n"
     ]
    }
   ],
   "source": [
    "print(os.listdir('..'))\n",
    "df = pd.read_csv('../data_compare.csv')"
   ]
  },
  {
   "cell_type": "code",
   "execution_count": 37,
   "id": "7a98934b",
   "metadata": {},
   "outputs": [
    {
     "data": {
      "text/html": [
       "<div>\n",
       "<style scoped>\n",
       "    .dataframe tbody tr th:only-of-type {\n",
       "        vertical-align: middle;\n",
       "    }\n",
       "\n",
       "    .dataframe tbody tr th {\n",
       "        vertical-align: top;\n",
       "    }\n",
       "\n",
       "    .dataframe thead th {\n",
       "        text-align: right;\n",
       "    }\n",
       "</style>\n",
       "<table border=\"1\" class=\"dataframe\">\n",
       "  <thead>\n",
       "    <tr style=\"text-align: right;\">\n",
       "      <th></th>\n",
       "      <th>Algorithm</th>\n",
       "      <th>uniform</th>\n",
       "      <th>simden</th>\n",
       "      <th>varden</th>\n",
       "      <th>GeoLife</th>\n",
       "      <th>PAMAP2</th>\n",
       "      <th>Sensor5</th>\n",
       "      <th>HT</th>\n",
       "      <th>Query</th>\n",
       "      <th>Gowalla</th>\n",
       "    </tr>\n",
       "  </thead>\n",
       "  <tbody>\n",
       "    <tr>\n",
       "      <th>0</th>\n",
       "      <td>DPC-EXACT-BASELINE</td>\n",
       "      <td>91.304667</td>\n",
       "      <td>290.296333</td>\n",
       "      <td>250.227667</td>\n",
       "      <td>NaN</td>\n",
       "      <td>4.647357</td>\n",
       "      <td>2000.410000</td>\n",
       "      <td>814.502000</td>\n",
       "      <td>0.301000</td>\n",
       "      <td>13.567033</td>\n",
       "    </tr>\n",
       "    <tr>\n",
       "      <th>1</th>\n",
       "      <td>DPC-APPROX-BASELINE</td>\n",
       "      <td>NaN</td>\n",
       "      <td>6.364173</td>\n",
       "      <td>2072.960000</td>\n",
       "      <td>5.193023</td>\n",
       "      <td>0.026000</td>\n",
       "      <td>115.496333</td>\n",
       "      <td>0.612000</td>\n",
       "      <td>0.014318</td>\n",
       "      <td>NaN</td>\n",
       "    </tr>\n",
       "    <tr>\n",
       "      <th>2</th>\n",
       "      <td>DPC-FENWICK</td>\n",
       "      <td>7.073787</td>\n",
       "      <td>3.856930</td>\n",
       "      <td>3.865913</td>\n",
       "      <td>12.250000</td>\n",
       "      <td>0.109520</td>\n",
       "      <td>1.770000</td>\n",
       "      <td>0.524926</td>\n",
       "      <td>0.019033</td>\n",
       "      <td>0.493693</td>\n",
       "    </tr>\n",
       "    <tr>\n",
       "      <th>3</th>\n",
       "      <td>DPC-INCOMPLETE</td>\n",
       "      <td>18.264133</td>\n",
       "      <td>11.266533</td>\n",
       "      <td>8.928507</td>\n",
       "      <td>14.950000</td>\n",
       "      <td>5.125087</td>\n",
       "      <td>4.330000</td>\n",
       "      <td>1.205083</td>\n",
       "      <td>0.039303</td>\n",
       "      <td>1.089502</td>\n",
       "    </tr>\n",
       "    <tr>\n",
       "      <th>4</th>\n",
       "      <td>DPC-PRIORITY</td>\n",
       "      <td>1.685860</td>\n",
       "      <td>1.387997</td>\n",
       "      <td>1.351220</td>\n",
       "      <td>2.586063</td>\n",
       "      <td>0.557170</td>\n",
       "      <td>0.980000</td>\n",
       "      <td>0.174550</td>\n",
       "      <td>0.006638</td>\n",
       "      <td>0.156174</td>\n",
       "    </tr>\n",
       "  </tbody>\n",
       "</table>\n",
       "</div>"
      ],
      "text/plain": [
       "             Algorithm    uniform      simden       varden    GeoLife  \\\n",
       "0   DPC-EXACT-BASELINE  91.304667  290.296333   250.227667        NaN   \n",
       "1  DPC-APPROX-BASELINE        NaN    6.364173  2072.960000   5.193023   \n",
       "2          DPC-FENWICK   7.073787    3.856930     3.865913  12.250000   \n",
       "3       DPC-INCOMPLETE  18.264133   11.266533     8.928507  14.950000   \n",
       "4         DPC-PRIORITY   1.685860    1.387997     1.351220   2.586063   \n",
       "\n",
       "     PAMAP2      Sensor5          HT     Query    Gowalla  \n",
       "0  4.647357  2000.410000  814.502000  0.301000  13.567033  \n",
       "1  0.026000   115.496333    0.612000  0.014318        NaN  \n",
       "2  0.109520     1.770000    0.524926  0.019033   0.493693  \n",
       "3  5.125087     4.330000    1.205083  0.039303   1.089502  \n",
       "4  0.557170     0.980000    0.174550  0.006638   0.156174  "
      ]
     },
     "execution_count": 37,
     "metadata": {},
     "output_type": "execute_result"
    }
   ],
   "source": [
    "df.head()"
   ]
  },
  {
   "cell_type": "code",
   "execution_count": 38,
   "id": "c70d3df2",
   "metadata": {},
   "outputs": [
    {
     "name": "stdout",
     "output_type": "stream",
     "text": [
      "[['DPC-EXACT-BASELINE', 'uniform', 91.30466667], ['DPC-EXACT-BASELINE', 'simden', 290.2963333], ['DPC-EXACT-BASELINE', 'varden', 250.2276667], ['DPC-EXACT-BASELINE', 'GeoLife', nan], ['DPC-EXACT-BASELINE', 'PAMAP2', 4.647356667], ['DPC-EXACT-BASELINE', 'Sensor5', 2000.41], ['DPC-EXACT-BASELINE', 'HT', 814.502], ['DPC-EXACT-BASELINE', 'Query', 0.3009996667], ['DPC-EXACT-BASELINE', 'Gowalla', 13.56703333], ['DPC-APPROX-BASELINE', 'uniform', nan], ['DPC-APPROX-BASELINE', 'simden', 6.364173333], ['DPC-APPROX-BASELINE', 'varden', 2072.96], ['DPC-APPROX-BASELINE', 'GeoLife', 5.193023333], ['DPC-APPROX-BASELINE', 'PAMAP2', 0.026], ['DPC-APPROX-BASELINE', 'Sensor5', 115.4963333], ['DPC-APPROX-BASELINE', 'HT', 0.612], ['DPC-APPROX-BASELINE', 'Query', 0.01431766667], ['DPC-APPROX-BASELINE', 'Gowalla', nan], ['DPC-FENWICK', 'uniform', 7.073786667], ['DPC-FENWICK', 'simden', 3.85693], ['DPC-FENWICK', 'varden', 3.865913333], ['DPC-FENWICK', 'GeoLife', 12.25], ['DPC-FENWICK', 'PAMAP2', 0.1095203333], ['DPC-FENWICK', 'Sensor5', 1.77], ['DPC-FENWICK', 'HT', 0.5249263333], ['DPC-FENWICK', 'Query', 0.0190326], ['DPC-FENWICK', 'Gowalla', 0.4936933333], ['DPC-INCOMPLETE', 'uniform', 18.26413333], ['DPC-INCOMPLETE', 'simden', 11.26653333], ['DPC-INCOMPLETE', 'varden', 8.928506667], ['DPC-INCOMPLETE', 'GeoLife', 14.95], ['DPC-INCOMPLETE', 'PAMAP2', 5.125086667], ['DPC-INCOMPLETE', 'Sensor5', 4.33], ['DPC-INCOMPLETE', 'HT', 1.205083333], ['DPC-INCOMPLETE', 'Query', 0.03930266667], ['DPC-INCOMPLETE', 'Gowalla', 1.089502], ['DPC-PRIORITY', 'uniform', 1.68586], ['DPC-PRIORITY', 'simden', 1.387996667], ['DPC-PRIORITY', 'varden', 1.35122], ['DPC-PRIORITY', 'GeoLife', 2.586063333], ['DPC-PRIORITY', 'PAMAP2', 0.5571703333], ['DPC-PRIORITY', 'Sensor5', 0.98], ['DPC-PRIORITY', 'HT', 0.1745496667], ['DPC-PRIORITY', 'Query', 0.006637653333], ['DPC-PRIORITY', 'Gowalla', 0.1561736667]]\n"
     ]
    }
   ],
   "source": [
    "lll = []\n",
    "for i, row in df.iterrows():\n",
    "    ll = [[row['Algorithm'], df.columns[j+1], t] for j,t in enumerate(row[1:])]\n",
    "    lll += ll\n",
    "print(lll)\n",
    "df_new = pd.DataFrame(lll, columns=['Algorithm', 'Dataset', 'Runtime'])"
   ]
  },
  {
   "cell_type": "code",
   "execution_count": 39,
   "id": "a162fd24",
   "metadata": {},
   "outputs": [
    {
     "data": {
      "text/html": [
       "<div>\n",
       "<style scoped>\n",
       "    .dataframe tbody tr th:only-of-type {\n",
       "        vertical-align: middle;\n",
       "    }\n",
       "\n",
       "    .dataframe tbody tr th {\n",
       "        vertical-align: top;\n",
       "    }\n",
       "\n",
       "    .dataframe thead th {\n",
       "        text-align: right;\n",
       "    }\n",
       "</style>\n",
       "<table border=\"1\" class=\"dataframe\">\n",
       "  <thead>\n",
       "    <tr style=\"text-align: right;\">\n",
       "      <th></th>\n",
       "      <th>Algorithm</th>\n",
       "      <th>Dataset</th>\n",
       "      <th>Runtime</th>\n",
       "    </tr>\n",
       "  </thead>\n",
       "  <tbody>\n",
       "    <tr>\n",
       "      <th>0</th>\n",
       "      <td>DPC-EXACT-BASELINE</td>\n",
       "      <td>uniform</td>\n",
       "      <td>91.304667</td>\n",
       "    </tr>\n",
       "    <tr>\n",
       "      <th>1</th>\n",
       "      <td>DPC-EXACT-BASELINE</td>\n",
       "      <td>simden</td>\n",
       "      <td>290.296333</td>\n",
       "    </tr>\n",
       "    <tr>\n",
       "      <th>2</th>\n",
       "      <td>DPC-EXACT-BASELINE</td>\n",
       "      <td>varden</td>\n",
       "      <td>250.227667</td>\n",
       "    </tr>\n",
       "    <tr>\n",
       "      <th>3</th>\n",
       "      <td>DPC-EXACT-BASELINE</td>\n",
       "      <td>GeoLife</td>\n",
       "      <td>100000.000000</td>\n",
       "    </tr>\n",
       "    <tr>\n",
       "      <th>4</th>\n",
       "      <td>DPC-EXACT-BASELINE</td>\n",
       "      <td>PAMAP2</td>\n",
       "      <td>4.647357</td>\n",
       "    </tr>\n",
       "  </tbody>\n",
       "</table>\n",
       "</div>"
      ],
      "text/plain": [
       "            Algorithm  Dataset        Runtime\n",
       "0  DPC-EXACT-BASELINE  uniform      91.304667\n",
       "1  DPC-EXACT-BASELINE   simden     290.296333\n",
       "2  DPC-EXACT-BASELINE   varden     250.227667\n",
       "3  DPC-EXACT-BASELINE  GeoLife  100000.000000\n",
       "4  DPC-EXACT-BASELINE   PAMAP2       4.647357"
      ]
     },
     "execution_count": 39,
     "metadata": {},
     "output_type": "execute_result"
    }
   ],
   "source": [
    "df_new.loc[df_new['Runtime'].isnull(), 'Runtime'] = 100000\n",
    "df_new.head()"
   ]
  },
  {
   "cell_type": "code",
   "execution_count": 59,
   "id": "939f7b2c",
   "metadata": {},
   "outputs": [
    {
     "name": "stderr",
     "output_type": "stream",
     "text": [
      "/tmp/ipykernel_30753/2375275775.py:8: UserWarning: FixedFormatter should only be used together with FixedLocator\n",
      "  g.set_yticklabels(['0.0001', '0.001', '0.01', '0.1', '1', '10', '100', '1000', '10000', 'INF'])\n"
     ]
    },
    {
     "data": {
      "image/png": "[encoded data removed]",
      "text/plain": [
       "<Figure size 1000x400 with 1 Axes>"
      ]
     },
     "metadata": {},
     "output_type": "display_data"
    }
   ],
   "source": [
    "plt.figure(figsize=(10, 4))\n",
    "g=sns.barplot(data=df_new, x='Dataset', y='Runtime', hue='Algorithm', palette=pal, linewidth=2)\n",
    "for patch in g.patches:\n",
    "    clr = np.array(patch.get_facecolor())\n",
    "    clr[:-1] -= 50/255\n",
    "    patch.set_edgecolor(clr)\n",
    "g.set_yscale(\"log\")\n",
    "g.set_yticklabels(['0.0001', '0.001', '0.01', '0.1', '1', '10', '100', '1000', '10000', 'INF'])\n",
    "plt.savefig('../images/compare_all.png')"
   ]
  },
  {
   "cell_type": "code",
   "execution_count": 40,
   "id": "b2e3a79a",
   "metadata": {},
   "outputs": [
    {
     "data": {
      "image/png": "[encoded data removed]",
      "text/plain": [
       "<Figure size 864x288 with 1 Axes>"
      ]
     },
     "metadata": {
      "needs_background": "light"
     },
     "output_type": "display_data"
    }
   ],
   "source": [
    "fontsize = 20\n",
    "fig = plt.figure(figsize=(12, 4))\n",
    "g=sns.barplot(data=df_new, x='Dataset', y='Runtime', hue='Algorithm', palette=palette, linewidth=2)\n",
    "for patch in g.patches:\n",
    "    clr = np.array(patch.get_facecolor())\n",
    "    clr[:-1] -= 50/255\n",
    "    patch.set_edgecolor(clr)\n",
    "plt.ylabel(\"Runtime (s)\", fontsize = fontsize+5)\n",
    "plt.xlabel(\"Data set\", fontsize = fontsize+5)\n",
    "\n",
    "g.set_yscale(\"log\")\n",
    "g.set_yticks([0.0001,  0.01,1,  100,  10000, 1e5])\n",
    "g.set_yticklabels(['0.0001',  '0.01', '1', '100',  '10000', 'INF'])\n",
    "plt.legend([],[], frameon=False)\n",
    "#handles, labels = g.get_legend_handles_labels()\n",
    "#g.legend(handles, labels, loc=9, ncol=3,bbox_to_anchor=(0.5, 1.4),frameon=False, fontsize = fontsize)#\n",
    "for l in g.yaxis.get_ticklabels():\n",
    "    l.set_fontsize(fontsize)\n",
    "for l in g.xaxis.get_ticklabels():\n",
    "    l.set_fontsize(fontsize)\n",
    "    \n",
    "plt.subplots_adjust(left=0.03,right=0.995, top=0.85,wspace=0.1, hspace = 0.25)\n",
    "\n",
    "plt.savefig('../images/compare_dep.pdf', bbox_inches='tight' )"
   ]
  },
  {
   "cell_type": "code",
   "execution_count": null,
   "id": "0e54a5f5",
   "metadata": {},
   "outputs": [],
   "source": []
  },
  {
   "cell_type": "code",
   "execution_count": null,
   "id": "fddb2f33",
   "metadata": {},
   "outputs": [],
   "source": []
  },
  {
   "cell_type": "code",
   "execution_count": null,
   "id": "fc560d54",
   "metadata": {},
   "outputs": [],
   "source": []
  },
  {
   "cell_type": "code",
   "execution_count": null,
   "id": "e5a96a29",
   "metadata": {},
   "outputs": [],
   "source": []
  },
  {
   "cell_type": "code",
   "execution_count": null,
   "id": "3abccd5a",
   "metadata": {},
   "outputs": [],
   "source": []
  },
  {
   "cell_type": "code",
   "execution_count": null,
   "id": "c6955047",
   "metadata": {},
   "outputs": [],
   "source": []
  },
  {
   "cell_type": "code",
   "execution_count": null,
   "id": "3a61d400",
   "metadata": {},
   "outputs": [],
   "source": []
  },
  {
   "cell_type": "code",
   "execution_count": null,
   "id": "9771a45e",
   "metadata": {},
   "outputs": [],
   "source": []
  },
  {
   "cell_type": "code",
   "execution_count": null,
   "id": "07819ced",
   "metadata": {},
   "outputs": [],
   "source": []
  },
  {
   "cell_type": "code",
   "execution_count": null,
   "id": "86243302",
   "metadata": {},
   "outputs": [],
   "source": []
  }
 ],
 "metadata": {
  "kernelspec": {
   "display_name": "Python 3 (ipykernel)",
   "language": "python",
   "name": "python3"
  },
  "language_info": {
   "codemirror_mode": {
    "name": "ipython",
    "version": 3
   },
   "file_extension": ".py",
   "mimetype": "text/x-python",
   "name": "python",
   "nbconvert_exporter": "python",
   "pygments_lexer": "ipython3",
   "version": "3.9.16"
  }
 },
 "nbformat": 4,
 "nbformat_minor": 5
}
