{
 "cells": [
  {
   "cell_type": "code",
   "execution_count": 53,
   "id": "3b2e71eb",
   "metadata": {},
   "outputs": [],
   "source": [
    "import pandas as pd\n",
    "import seaborn as sns\n",
    "import matplotlib.pyplot as plt\n",
    "import numpy as np\n",
    "import os"
   ]
  },
  {
   "cell_type": "code",
   "execution_count": 54,
   "id": "a2d191e0",
   "metadata": {},
   "outputs": [],
   "source": [
    "pal = sns.color_palette(['#5494da', '#5dcdf9', '#e8e37c', '#f3b595', '#f09895'])"
   ]
  },
  {
   "cell_type": "code",
   "execution_count": 55,
   "id": "7cf38d99",
   "metadata": {},
   "outputs": [
    {
     "name": "stdout",
     "output_type": "stream",
     "text": [
      "['test_static_synthetic.sh~', 'test_fenwick_synthetic.sh~', 'test_all_synthetic.sh', 'include', 'test_sensor.sh', '.gitignore', 'test_query.sh', 'tests', 'external', 'test_gowalla.sh', '.gitmodules', 'test_static_synthetic.sh', 'test_sensor5.sh', '.idea', 'test_varden_fast.sh', '.~lock.data_compare.csv#', 'data.csv', 'test_priority_synthetic.sh', 'test_uniform_fast.sh', 'data_compare.csv', 'notebooks', 'README.md', 'test_simden_fast.sh', 'images', 'src', 'test_sensor.sh~', 'test_all.sh', 'test_sensor5.sh~', 'results', 'test_fenwick_synthetic.sh', '.git', 'CMakeLists.txt', 'test_HT.sh', 'test_uniform.sh', 'brutetest.sh', 'test_PAMAP2.sh~', 'test_GeoLife.sh', 'test_GeoLife.sh~', 'plot_graphs.py', 'test_varden.sh', 'test_PAMAP2.sh']\n"
     ]
    }
   ],
   "source": [
    "print(os.listdir('..'))\n",
    "df = pd.read_csv('../data_compare.csv')"
   ]
  },
  {
   "cell_type": "code",
   "execution_count": 56,
   "id": "7a98934b",
   "metadata": {},
   "outputs": [
    {
     "data": {
      "text/html": [
       "<div>\n",
       "<style scoped>\n",
       "    .dataframe tbody tr th:only-of-type {\n",
       "        vertical-align: middle;\n",
       "    }\n",
       "\n",
       "    .dataframe tbody tr th {\n",
       "        vertical-align: top;\n",
       "    }\n",
       "\n",
       "    .dataframe thead th {\n",
       "        text-align: right;\n",
       "    }\n",
       "</style>\n",
       "<table border=\"1\" class=\"dataframe\">\n",
       "  <thead>\n",
       "    <tr style=\"text-align: right;\">\n",
       "      <th></th>\n",
       "      <th>Algorithm</th>\n",
       "      <th>uniform</th>\n",
       "      <th>simden</th>\n",
       "      <th>varden</th>\n",
       "      <th>GeoLife</th>\n",
       "      <th>PAMAP2</th>\n",
       "      <th>Sensor5</th>\n",
       "      <th>HT</th>\n",
       "      <th>Query</th>\n",
       "      <th>Gowalla</th>\n",
       "    </tr>\n",
       "  </thead>\n",
       "  <tbody>\n",
       "    <tr>\n",
       "      <th>0</th>\n",
       "      <td>DPC-EXACT-BASELINE</td>\n",
       "      <td>125.441890</td>\n",
       "      <td>296.805640</td>\n",
       "      <td>256.278820</td>\n",
       "      <td>NaN</td>\n",
       "      <td>6.407207</td>\n",
       "      <td>13852.716570</td>\n",
       "      <td>6652.432380</td>\n",
       "      <td>0.376593</td>\n",
       "      <td>14.720717</td>\n",
       "    </tr>\n",
       "    <tr>\n",
       "      <th>1</th>\n",
       "      <td>DPC-APPROX-BASELINE</td>\n",
       "      <td>NaN</td>\n",
       "      <td>8.739697</td>\n",
       "      <td>2078.411195</td>\n",
       "      <td>28.121813</td>\n",
       "      <td>0.861702</td>\n",
       "      <td>318.599373</td>\n",
       "      <td>2144.927149</td>\n",
       "      <td>13.583064</td>\n",
       "      <td>NaN</td>\n",
       "    </tr>\n",
       "    <tr>\n",
       "      <th>2</th>\n",
       "      <td>DPC-FENWICK</td>\n",
       "      <td>15.428904</td>\n",
       "      <td>5.847936</td>\n",
       "      <td>5.632386</td>\n",
       "      <td>22.480997</td>\n",
       "      <td>0.148139</td>\n",
       "      <td>4.751136</td>\n",
       "      <td>0.847205</td>\n",
       "      <td>0.031983</td>\n",
       "      <td>0.781705</td>\n",
       "    </tr>\n",
       "    <tr>\n",
       "      <th>3</th>\n",
       "      <td>DPC-INCOMPLETE</td>\n",
       "      <td>28.500387</td>\n",
       "      <td>13.116446</td>\n",
       "      <td>10.597735</td>\n",
       "      <td>25.031864</td>\n",
       "      <td>5.181544</td>\n",
       "      <td>7.289989</td>\n",
       "      <td>1.625831</td>\n",
       "      <td>0.054303</td>\n",
       "      <td>1.484193</td>\n",
       "    </tr>\n",
       "    <tr>\n",
       "      <th>4</th>\n",
       "      <td>DPC-PRIORITY</td>\n",
       "      <td>9.298376</td>\n",
       "      <td>2.944668</td>\n",
       "      <td>2.862699</td>\n",
       "      <td>12.797349</td>\n",
       "      <td>0.594393</td>\n",
       "      <td>3.939579</td>\n",
       "      <td>0.505159</td>\n",
       "      <td>0.019062</td>\n",
       "      <td>0.400195</td>\n",
       "    </tr>\n",
       "  </tbody>\n",
       "</table>\n",
       "</div>"
      ],
      "text/plain": [
       "             Algorithm     uniform      simden       varden    GeoLife  \\\n",
       "0   DPC-EXACT-BASELINE  125.441890  296.805640   256.278820        NaN   \n",
       "1  DPC-APPROX-BASELINE         NaN    8.739697  2078.411195  28.121813   \n",
       "2          DPC-FENWICK   15.428904    5.847936     5.632386  22.480997   \n",
       "3       DPC-INCOMPLETE   28.500387   13.116446    10.597735  25.031864   \n",
       "4         DPC-PRIORITY    9.298376    2.944668     2.862699  12.797349   \n",
       "\n",
       "     PAMAP2       Sensor5           HT      Query    Gowalla  \n",
       "0  6.407207  13852.716570  6652.432380   0.376593  14.720717  \n",
       "1  0.861702    318.599373  2144.927149  13.583064        NaN  \n",
       "2  0.148139      4.751136     0.847205   0.031983   0.781705  \n",
       "3  5.181544      7.289989     1.625831   0.054303   1.484193  \n",
       "4  0.594393      3.939579     0.505159   0.019062   0.400195  "
      ]
     },
     "execution_count": 56,
     "metadata": {},
     "output_type": "execute_result"
    }
   ],
   "source": [
    "df.head()"
   ]
  },
  {
   "cell_type": "code",
   "execution_count": 57,
   "id": "c70d3df2",
   "metadata": {},
   "outputs": [
    {
     "name": "stdout",
     "output_type": "stream",
     "text": [
      "[['DPC-EXACT-BASELINE', 'uniform', 125.44189], ['DPC-EXACT-BASELINE', 'simden', 296.80564], ['DPC-EXACT-BASELINE', 'varden', 256.27882], ['DPC-EXACT-BASELINE', 'GeoLife', nan], ['DPC-EXACT-BASELINE', 'PAMAP2', 6.407206667], ['DPC-EXACT-BASELINE', 'Sensor5', 13852.71657], ['DPC-EXACT-BASELINE', 'HT', 6652.43238], ['DPC-EXACT-BASELINE', 'Query', 0.376593], ['DPC-EXACT-BASELINE', 'Gowalla', 14.720717], ['DPC-APPROX-BASELINE', 'uniform', nan], ['DPC-APPROX-BASELINE', 'simden', 8.739697], ['DPC-APPROX-BASELINE', 'varden', 2078.411195], ['DPC-APPROX-BASELINE', 'GeoLife', 28.12181333], ['DPC-APPROX-BASELINE', 'PAMAP2', 0.8617016667], ['DPC-APPROX-BASELINE', 'Sensor5', 318.5993726], ['DPC-APPROX-BASELINE', 'HT', 2144.927149], ['DPC-APPROX-BASELINE', 'Query', 13.58306367], ['DPC-APPROX-BASELINE', 'Gowalla', nan], ['DPC-FENWICK', 'uniform', 15.42890427], ['DPC-FENWICK', 'simden', 5.847936], ['DPC-FENWICK', 'varden', 5.632385967], ['DPC-FENWICK', 'GeoLife', 22.48099723], ['DPC-FENWICK', 'PAMAP2', 0.14813907], ['DPC-FENWICK', 'Sensor5', 4.751135633], ['DPC-FENWICK', 'HT', 0.8472047767], ['DPC-FENWICK', 'Query', 0.03198338367], ['DPC-FENWICK', 'Gowalla', 0.7817049667], ['DPC-INCOMPLETE', 'uniform', 28.5003871], ['DPC-INCOMPLETE', 'simden', 13.11644557], ['DPC-INCOMPLETE', 'varden', 10.59773533], ['DPC-INCOMPLETE', 'GeoLife', 25.0318644], ['DPC-INCOMPLETE', 'PAMAP2', 5.18154377], ['DPC-INCOMPLETE', 'Sensor5', 7.289988633], ['DPC-INCOMPLETE', 'HT', 1.625831277], ['DPC-INCOMPLETE', 'Query', 0.05430267833], ['DPC-INCOMPLETE', 'Gowalla', 1.484193293], ['DPC-PRIORITY', 'uniform', 9.298375733], ['DPC-PRIORITY', 'simden', 2.944667633], ['DPC-PRIORITY', 'varden', 2.8626993], ['DPC-PRIORITY', 'GeoLife', 12.79734873], ['DPC-PRIORITY', 'PAMAP2', 0.5943930297], ['DPC-PRIORITY', 'Sensor5', 3.939579367], ['DPC-PRIORITY', 'HT', 0.5051586], ['DPC-PRIORITY', 'Query', 0.019062453], ['DPC-PRIORITY', 'Gowalla', 0.4001947367]]\n"
     ]
    }
   ],
   "source": [
    "lll = []\n",
    "for i, row in df.iterrows():\n",
    "    ll = [[row['Algorithm'], df.columns[j+1], t] for j,t in enumerate(row[1:])]\n",
    "    lll += ll\n",
    "print(lll)\n",
    "df_new = pd.DataFrame(lll, columns=['Algorithm', 'Dataset', 'Runtime'])"
   ]
  },
  {
   "cell_type": "code",
   "execution_count": 58,
   "id": "a162fd24",
   "metadata": {},
   "outputs": [
    {
     "data": {
      "text/html": [
       "<div>\n",
       "<style scoped>\n",
       "    .dataframe tbody tr th:only-of-type {\n",
       "        vertical-align: middle;\n",
       "    }\n",
       "\n",
       "    .dataframe tbody tr th {\n",
       "        vertical-align: top;\n",
       "    }\n",
       "\n",
       "    .dataframe thead th {\n",
       "        text-align: right;\n",
       "    }\n",
       "</style>\n",
       "<table border=\"1\" class=\"dataframe\">\n",
       "  <thead>\n",
       "    <tr style=\"text-align: right;\">\n",
       "      <th></th>\n",
       "      <th>Algorithm</th>\n",
       "      <th>Dataset</th>\n",
       "      <th>Runtime</th>\n",
       "    </tr>\n",
       "  </thead>\n",
       "  <tbody>\n",
       "    <tr>\n",
       "      <th>0</th>\n",
       "      <td>DPC-EXACT-BASELINE</td>\n",
       "      <td>uniform</td>\n",
       "      <td>125.441890</td>\n",
       "    </tr>\n",
       "    <tr>\n",
       "      <th>1</th>\n",
       "      <td>DPC-EXACT-BASELINE</td>\n",
       "      <td>simden</td>\n",
       "      <td>296.805640</td>\n",
       "    </tr>\n",
       "    <tr>\n",
       "      <th>2</th>\n",
       "      <td>DPC-EXACT-BASELINE</td>\n",
       "      <td>varden</td>\n",
       "      <td>256.278820</td>\n",
       "    </tr>\n",
       "    <tr>\n",
       "      <th>3</th>\n",
       "      <td>DPC-EXACT-BASELINE</td>\n",
       "      <td>GeoLife</td>\n",
       "      <td>100000.000000</td>\n",
       "    </tr>\n",
       "    <tr>\n",
       "      <th>4</th>\n",
       "      <td>DPC-EXACT-BASELINE</td>\n",
       "      <td>PAMAP2</td>\n",
       "      <td>6.407207</td>\n",
       "    </tr>\n",
       "  </tbody>\n",
       "</table>\n",
       "</div>"
      ],
      "text/plain": [
       "            Algorithm  Dataset        Runtime\n",
       "0  DPC-EXACT-BASELINE  uniform     125.441890\n",
       "1  DPC-EXACT-BASELINE   simden     296.805640\n",
       "2  DPC-EXACT-BASELINE   varden     256.278820\n",
       "3  DPC-EXACT-BASELINE  GeoLife  100000.000000\n",
       "4  DPC-EXACT-BASELINE   PAMAP2       6.407207"
      ]
     },
     "execution_count": 58,
     "metadata": {},
     "output_type": "execute_result"
    }
   ],
   "source": [
    "df_new.loc[df_new['Runtime'].isnull(), 'Runtime'] = 100000\n",
    "df_new.head()"
   ]
  },
  {
   "cell_type": "code",
   "execution_count": 59,
   "id": "939f7b2c",
   "metadata": {},
   "outputs": [
    {
     "name": "stderr",
     "output_type": "stream",
     "text": [
      "/tmp/ipykernel_30753/2375275775.py:8: UserWarning: FixedFormatter should only be used together with FixedLocator\n",
      "  g.set_yticklabels(['0.0001', '0.001', '0.01', '0.1', '1', '10', '100', '1000', '10000', 'INF'])\n"
     ]
    },
    {
     "data": {
      "image/png": "[encoded data removed]",
      "text/plain": [
       "<Figure size 1000x400 with 1 Axes>"
      ]
     },
     "metadata": {},
     "output_type": "display_data"
    }
   ],
   "source": [
    "plt.figure(figsize=(10, 4))\n",
    "g=sns.barplot(data=df_new, x='Dataset', y='Runtime', hue='Algorithm', palette=pal, linewidth=2)\n",
    "for patch in g.patches:\n",
    "    clr = np.array(patch.get_facecolor())\n",
    "    clr[:-1] -= 50/255\n",
    "    patch.set_edgecolor(clr)\n",
    "g.set_yscale(\"log\")\n",
    "g.set_yticklabels(['0.0001', '0.001', '0.01', '0.1', '1', '10', '100', '1000', '10000', 'INF'])\n",
    "plt.savefig('../images/compare_all.png')"
   ]
  },
  {
   "cell_type": "code",
   "execution_count": null,
   "id": "b2e3a79a",
   "metadata": {},
   "outputs": [],
   "source": []
  },
  {
   "cell_type": "code",
   "execution_count": null,
   "id": "0e54a5f5",
   "metadata": {},
   "outputs": [],
   "source": []
  },
  {
   "cell_type": "code",
   "execution_count": null,
   "id": "fddb2f33",
   "metadata": {},
   "outputs": [],
   "source": []
  },
  {
   "cell_type": "code",
   "execution_count": null,
   "id": "fc560d54",
   "metadata": {},
   "outputs": [],
   "source": []
  },
  {
   "cell_type": "code",
   "execution_count": null,
   "id": "e5a96a29",
   "metadata": {},
   "outputs": [],
   "source": []
  },
  {
   "cell_type": "code",
   "execution_count": null,
   "id": "3abccd5a",
   "metadata": {},
   "outputs": [],
   "source": []
  },
  {
   "cell_type": "code",
   "execution_count": null,
   "id": "c6955047",
   "metadata": {},
   "outputs": [],
   "source": []
  },
  {
   "cell_type": "code",
   "execution_count": null,
   "id": "3a61d400",
   "metadata": {},
   "outputs": [],
   "source": []
  },
  {
   "cell_type": "code",
   "execution_count": null,
   "id": "9771a45e",
   "metadata": {},
   "outputs": [],
   "source": []
  },
  {
   "cell_type": "code",
   "execution_count": null,
   "id": "07819ced",
   "metadata": {},
   "outputs": [],
   "source": []
  },
  {
   "cell_type": "code",
   "execution_count": null,
   "id": "86243302",
   "metadata": {},
   "outputs": [],
   "source": []
  }
 ],
 "metadata": {
  "kernelspec": {
   "display_name": "Python 3 (ipykernel)",
   "language": "python",
   "name": "python3"
  },
  "language_info": {
   "codemirror_mode": {
    "name": "ipython",
    "version": 3
   },
   "file_extension": ".py",
   "mimetype": "text/x-python",
   "name": "python",
   "nbconvert_exporter": "python",
   "pygments_lexer": "ipython3",
   "version": "3.10.6"
  }
 },
 "nbformat": 4,
 "nbformat_minor": 5
}
